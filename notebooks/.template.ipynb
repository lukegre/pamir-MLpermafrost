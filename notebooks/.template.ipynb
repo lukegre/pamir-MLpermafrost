{
 "cells": [
  {
   "cell_type": "markdown",
   "id": "a8232c2d",
   "metadata": {},
   "source": [
    "# Imports"
   ]
  },
  {
   "cell_type": "code",
   "execution_count": 1,
   "id": "3f6f071b",
   "metadata": {},
   "outputs": [],
   "source": [
    "%load_ext autoreload\n",
    "%autoreload 2"
   ]
  },
  {
   "cell_type": "code",
   "execution_count": 6,
   "id": "0d78f86b",
   "metadata": {},
   "outputs": [],
   "source": [
    "# general libraries\n",
    "import glob\n",
    "import os\n",
    "import pathlib\n",
    "import site\n",
    "import sys\n",
    "import warnings\n",
    "# data handling libraries\n",
    "import geopandas as gpd\n",
    "import numpy as np\n",
    "import pandas as pd\n",
    "import rioxarray as rxr\n",
    "import xarray as xr\n",
    "# plotting libraries\n",
    "import matplotlib.pyplot as plt\n",
    "import seaborn as sns\n",
    "# machine learning libraries\n",
    "import gpytorch\n",
    "from sklearn import gaussian_process as gp\n",
    "import torch"
   ]
  },
  {
   "cell_type": "markdown",
   "id": "cd3372de",
   "metadata": {},
   "source": [
    "# Describe the purpose of this notebook\n",
    "\n",
    "Basic overview of this notebook and the problem it tackles. Also "
   ]
  },
  {
   "cell_type": "code",
   "execution_count": null,
   "id": "a5d3a480",
   "metadata": {},
   "outputs": [],
   "source": []
  }
 ],
 "metadata": {
  "kernelspec": {
   "display_name": "pamir-mlpermafrost",
   "language": "python",
   "name": "python3"
  },
  "language_info": {
   "codemirror_mode": {
    "name": "ipython",
    "version": 3
   },
   "file_extension": ".py",
   "mimetype": "text/x-python",
   "name": "python",
   "nbconvert_exporter": "python",
   "pygments_lexer": "ipython3",
   "version": "3.12.8"
  }
 },
 "nbformat": 4,
 "nbformat_minor": 5
}
