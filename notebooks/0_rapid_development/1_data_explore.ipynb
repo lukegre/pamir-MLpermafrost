{
 "cells": [
  {
   "cell_type": "markdown",
   "id": "a8232c2d",
   "metadata": {},
   "source": [
    "# Imports"
   ]
  },
  {
   "cell_type": "code",
   "execution_count": null,
   "id": "3f6f071b",
   "metadata": {},
   "outputs": [],
   "source": [
    "%load_ext autoreload\n",
    "%autoreload 2"
   ]
  },
  {
   "cell_type": "code",
   "execution_count": null,
   "id": "0d78f86b",
   "metadata": {},
   "outputs": [],
   "source": [
    "# general libraries\n",
    "import dotenv\n",
    "import glob\n",
    "import os\n",
    "import pathlib\n",
    "import site\n",
    "import sys\n",
    "import warnings\n",
    "from tqdm.dask import TqdmCallback as ProgressBar\n",
    "# data handling libraries\n",
    "import geopandas as gpd\n",
    "import numpy as np\n",
    "import pandas as pd\n",
    "import rioxarray as rxr\n",
    "import xarray as xr\n",
    "# plotting libraries\n",
    "import matplotlib.pyplot as plt\n",
    "import seaborn as sns\n",
    "# machine learning libraries\n",
    "import gpytorch\n",
    "from sklearn import gaussian_process as gp\n",
    "import torch\n",
    "\n",
    "import pamir_mlpermafrost as pamir"
   ]
  },
  {
   "cell_type": "code",
   "execution_count": null,
   "id": "0ca8ec5f",
   "metadata": {},
   "outputs": [],
   "source": [
    "sns.set_style('white')\n",
    "\n",
    "plt.rcParams['axes.spines.right'] = False\n",
    "plt.rcParams['axes.spines.top'] = False\n",
    "plt.rcParams['font.size'] = 12"
   ]
  },
  {
   "cell_type": "markdown",
   "id": "cd3372de",
   "metadata": {},
   "source": [
    "# Data exploration\n",
    "\n",
    "Data should have been prepared with the `../../pamir-CryoGrid/` package and should be in Zarr format.  \n",
    "This zarr file can live either on disk or in a cloud storage bucket. Make sure that you have a `.env` file if you're using an S3 bucket.  \n",
    "\n",
    "## Data loading\n"
   ]
  },
  {
   "cell_type": "code",
   "execution_count": null,
   "id": "4fa818a9",
   "metadata": {},
   "outputs": [],
   "source": [
    "table = pd.read_parquet('../data/training/training_data-k1500-pamir_ns180-expX.parquet')\n",
    "\n",
    "table = pd.read_parquet('../data/training/training_data-k1500-pamir_ns180-expX.parquet')\n",
    "table['surface_index'] = table.stratigraphy_index % 4 + 1\n",
    "table = pamir.data.dem_utils.calc_aspect_cos_sin(table)"
   ]
  },
  {
   "cell_type": "code",
   "execution_count": null,
   "id": "f1368025",
   "metadata": {},
   "outputs": [],
   "source": [
    "target = 'active_layer_thickness'\n",
    "features = [\n",
    "    'altitude',\n",
    "    'slope_angle',\n",
    "    'aspect_cos',\n",
    "    'aspect_sin',\n",
    "    'albedo',\n",
    "    'emissivity',\n",
    "    'temperature',\n",
    "    'precipitation',\n",
    "    'snow_melt_doy',\n",
    "]"
   ]
  },
  {
   "cell_type": "code",
   "execution_count": null,
   "id": "bae5fb7e",
   "metadata": {},
   "outputs": [],
   "source": [
    "sns.pairplot(\n",
    "    data=table[table.surface_index == 1], \n",
    "    vars=features + [target], \n",
    "    # hue='surface_index', \n",
    "    # palette=sns.color_palette('turbo', n_colors=4),\n",
    "    kind='reg',\n",
    "    plot_kws={'scatter_kws': {'alpha': 0.1, 's': 5}, 'line_kws': {'color': 'red'}},\n",
    "    corner=True,\n",
    "    height=2,\n",
    ")"
   ]
  },
  {
   "cell_type": "code",
   "execution_count": null,
   "id": "4710d14e",
   "metadata": {},
   "outputs": [],
   "source": [
    "corr_table = (table[features + [target]].corr())\n",
    "sns.heatmap(\n",
    "    corr_table, \n",
    "    annot=True, \n",
    "    fmt=\".2f\", \n",
    "    cmap='RdBu_r', \n",
    "    square=False,\n",
    "    mask=np.triu(corr_table, k=0), \n",
    "    cbar_kws={\"shrink\": .8},\n",
    "    vmin=-1, vmax=1,\n",
    "    \n",
    ")"
   ]
  },
  {
   "cell_type": "code",
   "execution_count": null,
   "id": "3922a3a4",
   "metadata": {},
   "outputs": [],
   "source": [
    "slopes = (\n",
    "    da_active_layer\n",
    "    .groupby('time_1YS.year').mean()\n",
    "    .polyfit(dim='year', deg=1)\n",
    "    .polyfit_coefficients\n",
    "    .rename('slope')\n",
    "    .pipe(lambda x: x * 10)\n",
    "    .sel(degree=1, drop=True)\n",
    "    .to_series())\n",
    "\n",
    "df_X[f'{target}_slope'] = slopes"
   ]
  },
  {
   "cell_type": "code",
   "execution_count": null,
   "id": "7fda4886",
   "metadata": {},
   "outputs": [],
   "source": [
    "key = f'{target}_slope'\n",
    "\n",
    "fig, axs = plt.subplots(1, 2, figsize=(12, 4))\n",
    "\n",
    "ax0 = pamir.viz.stats.plot_hist_from_series(df_X[key], ax=axs[0], bins=np.arange(-1, 1.01, 0.025))[1]\n",
    "# ax0.set_yscale('log')\n",
    "ax0.set_title('Active layer thickness change per decade', loc='left')\n",
    "ax0.set_xlabel('Active layer thickness change [m / decade]')\n",
    "\n",
    "ax1 = sns.histplot(\n",
    "    data=df_X,\n",
    "    x=key,\n",
    "    hue='stratigraphy_index',\n",
    "    binrange=(-1, 1),\n",
    "    binwidth=0.02,\n",
    "    palette=sns.color_palette('Spectral_r', n_colors=4),\n",
    "    kde=True,)\n",
    "ax1.set_xlim(-1, 1)\n",
    "ax1.set_title('As left, but for each stratigraphy index', loc='left')\n",
    "ax1.set_xlabel('Active layer thickness change [m / decade]')"
   ]
  },
  {
   "cell_type": "code",
   "execution_count": null,
   "id": "5d7ccf89",
   "metadata": {},
   "outputs": [],
   "source": [
    "df_X.to_parquet(fname_training)"
   ]
  },
  {
   "cell_type": "code",
   "execution_count": null,
   "id": "67268604",
   "metadata": {},
   "outputs": [],
   "source": []
  }
 ],
 "metadata": {
  "kernelspec": {
   "display_name": "pamir-mlpermafrost",
   "language": "python",
   "name": "python3"
  },
  "language_info": {
   "codemirror_mode": {
    "name": "ipython",
    "version": 3
   },
   "file_extension": ".py",
   "mimetype": "text/x-python",
   "name": "python",
   "nbconvert_exporter": "python",
   "pygments_lexer": "ipython3",
   "version": "3.12.8"
  }
 },
 "nbformat": 4,
 "nbformat_minor": 5
}
