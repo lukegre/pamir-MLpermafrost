{
 "cells": [
  {
   "cell_type": "markdown",
   "id": "cd3372de",
   "metadata": {},
   "source": [
    "# Gaussian Process Regression for Permafrost Prediction\n",
    "\n",
    "Here I explore using GPs to predict permafrost thaw depth based on various environmental covariates."
   ]
  },
  {
   "cell_type": "markdown",
   "id": "a8232c2d",
   "metadata": {},
   "source": [
    "# Imports"
   ]
  },
  {
   "cell_type": "code",
   "execution_count": null,
   "id": "3f6f071b",
   "metadata": {},
   "outputs": [],
   "source": [
    "%load_ext autoreload\n",
    "%autoreload 2"
   ]
  },
  {
   "cell_type": "code",
   "execution_count": null,
   "id": "0d78f86b",
   "metadata": {},
   "outputs": [],
   "source": [
    "# general libraries\n",
    "import glob\n",
    "import os\n",
    "import pathlib\n",
    "import site\n",
    "import sys\n",
    "import warnings\n",
    "# data handling libraries\n",
    "import geopandas as gpd\n",
    "import numpy as np\n",
    "import pandas as pd\n",
    "import rioxarray as rxr\n",
    "import xarray as xr\n",
    "from tqdm.dask import TqdmCallback as ProgressBarDask\n",
    "from tqdm.notebook import tqdm as ProgressBar\n",
    "# plotting libraries\n",
    "import matplotlib.pyplot as plt\n",
    "import seaborn as sns\n",
    "# machine learning libraries\n",
    "import gpytorch\n",
    "from sklearn import gaussian_process as gp\n",
    "from sklearn import preprocessing\n",
    "from sklearn import model_selection \n",
    "import torch\n",
    "\n",
    "# pamir libraries\n",
    "import pamir_mlpermafrost as pamir"
   ]
  },
  {
   "cell_type": "markdown",
   "id": "a5d3a480",
   "metadata": {},
   "source": [
    "# Loading data"
   ]
  },
  {
   "cell_type": "code",
   "execution_count": null,
   "id": "31344a54",
   "metadata": {},
   "outputs": [],
   "source": [
    "data_X, data_y = pamir.models.datasets.load_training_data(sel='S180')\n",
    "X_train, X_test, y_train, y_test = pamir.models.datasets.train_test_split(data_X, data_y)"
   ]
  },
  {
   "cell_type": "code",
   "execution_count": null,
   "id": "f5e08449",
   "metadata": {},
   "outputs": [],
   "source": [
    "device = \"cpu\"  # mps not enabled for GPyTorch\n",
    "\n",
    "# 1. Data Preprocessing - CRITICAL for GPs\n",
    "scaler_X = pamir.models.datasets.StandardScaler_toTensor(device=device)\n",
    "scaler_y = pamir.models.datasets.StandardScaler_toTensor(device=device)\n",
    "\n",
    "# Scale features\n",
    "X_train_scaled_tensor = scaler_X.fit_transform(X_train)\n",
    "X_test_scaled_tensor = scaler_X.transform(X_test)\n",
    "\n",
    "# Scale target (reshape for sklearn)\n",
    "y_train_scaled_tensor = scaler_y.fit_transform(y_train).ravel()\n",
    "y_test_scaled_tensor = scaler_y.transform(y_test).ravel()"
   ]
  },
  {
   "cell_type": "code",
   "execution_count": null,
   "id": "774e88c7",
   "metadata": {},
   "outputs": [],
   "source": [
    "model = pamir.models.gp.simple.make_model(X_train_scaled_tensor, y_train_scaled_tensor)"
   ]
  },
  {
   "cell_type": "code",
   "execution_count": null,
   "id": "3729119c",
   "metadata": {},
   "outputs": [],
   "source": [
    "# Debug the model state\n",
    "print(\"=== MODEL DEBUG ===\")\n",
    "print(f\"Model has likelihood: {hasattr(model, 'likelihood')}\")\n",
    "print(f\"Model train_inputs shape: {model.train_inputs[0].shape if model.train_inputs else 'None'}\")\n",
    "print(f\"Model train_targets shape: {model.train_targets.shape if model.train_targets is not None else 'None'}\")\n",
    "print(f\"Model training mode: {model.training}\")\n",
    "print(f\"Model device: {next(model.parameters()).device}\")"
   ]
  },
  {
   "cell_type": "code",
   "execution_count": null,
   "id": "bc1ac470",
   "metadata": {},
   "outputs": [],
   "source": [
    "model, losses = pamir.models.gp.train.train_mll(\n",
    "    model, \n",
    "    X_train_scaled_tensor, \n",
    "    y_train_scaled_tensor,\n",
    "    n_iters=1000, \n",
    "    tolerance=1e-3)"
   ]
  },
  {
   "cell_type": "code",
   "execution_count": null,
   "id": "5ec29b52",
   "metadata": {},
   "outputs": [],
   "source": [
    "scores, y_pred, y_pred_std = pamir.models.gp.inference.eval(\n",
    "    model, \n",
    "    X_test_scaled_tensor, \n",
    "    y_test_scaled_tensor, \n",
    "    scaler_y\n",
    ")"
   ]
  },
  {
   "cell_type": "code",
   "execution_count": null,
   "id": "94c9b6dc",
   "metadata": {},
   "outputs": [],
   "source": [
    "ds_spatial = xr.open_zarr('../../pamir-CryoGrid/forcing/spatial_variables-710w365s750e400n-100m.zarr/')\n",
    "ds_spatial = ds_spatial.isel(x=slice(0, 1000), y=slice(0, 1000))"
   ]
  },
  {
   "cell_type": "code",
   "execution_count": null,
   "id": "61bcca87",
   "metadata": {},
   "outputs": [],
   "source": [
    "# load inference data\n",
    "features = data_X.columns.tolist()\n",
    "\n",
    "X_inference = pamir.models.datasets.load_inference_data_from_zarr(ds_spatial)\n",
    "X_inference_tensor_scaled = scaler_X.transform(X_inference[features])"
   ]
  },
  {
   "cell_type": "code",
   "execution_count": null,
   "id": "d2d0dcf6",
   "metadata": {},
   "outputs": [],
   "source": [
    "yhat_mu, yhat_sigma = pamir.models.gp.inference.predict(\n",
    "    model, \n",
    "    X_inference_tensor_scaled, \n",
    "    scaler_y, \n",
    "    inference_batch_size=50_000)"
   ]
  },
  {
   "cell_type": "code",
   "execution_count": null,
   "id": "01a5463f",
   "metadata": {},
   "outputs": [],
   "source": [
    "mask = (\n",
    "    (ds_spatial.surface_index > 0) \n",
    "    & \n",
    "    (ds_spatial.altitude > 3100)\n",
    ")"
   ]
  },
  {
   "cell_type": "markdown",
   "id": "d4c823e7",
   "metadata": {},
   "source": [
    "# Problem with this output\n",
    "\n",
    "We know that temperature does not increase as altitude decreases - here, we observe this very counter-intuitive behaviour.  \n",
    "To contstrain this, we can use a custom kernel for the parameters where we know the rough behaviour"
   ]
  },
  {
   "cell_type": "code",
   "execution_count": null,
   "id": "1865f59c",
   "metadata": {},
   "outputs": [],
   "source": [
    "# 6. Compare original vs improved predictions\n",
    "yhat_da = yhat_mu.set_index(X_inference.index).iloc[:,0].to_xarray()\n",
    "\n",
    "# Plot comparison\n",
    "fig, axes = plt.subplots(1, 1, figsize=(8, 6))\n",
    "\n",
    "# Improved predictions\n",
    "yhat_da.plot.imshow(ax=axes, cmap='Spectral_r', robust=True, vmax=0)\n",
    "\n",
    "plt.tight_layout()\n",
    "plt.show()"
   ]
  },
  {
   "cell_type": "code",
   "execution_count": null,
   "id": "b00304c0",
   "metadata": {},
   "outputs": [],
   "source": []
  }
 ],
 "metadata": {
  "kernelspec": {
   "display_name": "pamir-mlpermafrost",
   "language": "python",
   "name": "python3"
  },
  "language_info": {
   "codemirror_mode": {
    "name": "ipython",
    "version": 3
   },
   "file_extension": ".py",
   "mimetype": "text/x-python",
   "name": "python",
   "nbconvert_exporter": "python",
   "pygments_lexer": "ipython3",
   "version": "3.12.8"
  }
 },
 "nbformat": 4,
 "nbformat_minor": 5
}
